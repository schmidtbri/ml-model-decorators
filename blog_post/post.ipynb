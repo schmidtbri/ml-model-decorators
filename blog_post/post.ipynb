{
 "cells": [
  {
   "cell_type": "raw",
   "id": "b510f037",
   "metadata": {},
   "source": [
    "Title: Decorator Pattern for ML Models\n",
    "Date: 2022-02-15 07:00\n",
    "Category: Blog\n",
    "Slug: ml-model-decorators\n",
    "Authors: Brian Schmidt\n",
    "Summary: The decorator pattern is a software engineering pattern that allows software to be more flexible, more reusable, and more cohesive. In this blog post, we’ll explore how decorators work, how to implement them, and how to apply them to the MLModel base class."
   ]
  },
  {
   "cell_type": "markdown",
   "id": "1182783a",
   "metadata": {},
   "source": [
    "# Decorator Pattern for ML Models"
   ]
  },
  {
   "cell_type": "markdown",
   "id": "67802bec",
   "metadata": {},
   "source": [
    "## Introduction\n",
    "\n",
    "The decorator pattern is a software engineering pattern that allows software to be more flexible, more reusable, and more cohesive. In this blog post, we’ll explore how decorators work, how to implement them, how to apply them to the MLModel base class, and how to deploy them in a REST service.\n",
    "\n",
    "We’ll be building on top of the MLModel base class that we’ve built in a [previous blog post](https://brianschmidt-78145.medium.com/introducing-the-ml-base-package-1cc80ded39b4). The MLModel base class is designed to be wrapped around the prediction functionality of a machine learning model. It has several properties that allow a model object to describe itself to the outside world, including its name, version, and input and output schemas. The MLModel base class also requires that any class that inherits from it to implement the \\_\\_init\\_\\_() method, and the predict() method. These two methods form the most simple functionality of a machine learning model, the \\_\\_init\\_\\_() method is where model parameters are loaded, and the predict() method is where predictions are made.\n"
   ]
  },
  {
   "cell_type": "markdown",
   "id": "e6929075",
   "metadata": {},
   "source": [
    "## The Decorator Pattern \n",
    "\n",
    "The decorator pattern is an object-oriented design pattern that is useful when behavior needs to be added to an object without changing the object’s class or subclassing the object’s class. A decorator is an object that “decorates” the API of the object that it is decorating while not modifying the API of the object. The decorator executes its own behavior before and after the behavior of the decorated object, in this way, the decorator instance acts as a “gateway” to the decorated object.\n",
    "\n",
    "### How to Build a Decorator\n",
    "\n",
    "A decorator is a class that has the same API as the class that we want to decorate. In order to build a decorator, we’ll first create a Decorator base class by following these steps:\n",
    "\n",
    "- Subclass the class we want to decorate, creating a Decorator class with the same API.\n",
    "- In the Decorator class, add an instance attribute that can point to an instance of the class that we want to decorate.\n",
    "- When instantiating the Decorator class, receive an instance of the class we want to decorate and save it to the instance attribute.\n",
    "- In the Decorator class, implement the methods of the API of the class we want to decorate, calling the methods of the instance attribute and returning the results to the caller.\n",
    "\n",
    "If we instantiate the Decorator base class, the decorator instance will just forward all method calls to the decorated object, which is not very useful. To actually build a Decorator, we’ll need to create a subclass of it like this:\n",
    "\n",
    "- Create a subclass of Decorator that overrides the methods that you want to modify, adding your own behavior.\n",
    "- Make sure that you call the corresponding methods in the instance attribute from the Decorator’s methods in order to allow the decorated object to still execute its own behavior.\n",
    "\n",
    "Notice that a decorator instance can actually decorate another decorator instance, which allows us to “stack” decorators together to do more complex things. \n",
    "\n",
    "### Benefits of the Decorator Pattern\n",
    "\n",
    "One of the great benefits of decorators is the flexibility that they bring to software development. Without the use of decorators, an object’s class must be modified or subclassed in order to modify its behavior. By using decorators, we can modify the behavior just by attaching the decorator to the object. The “decoration” of an object can be done at runtime and can be configuration-driven, which means that we can change a program’s behavior quickly and easily by modifying its configuration instead of its source code.\n",
    "\n",
    "Another benefit of decorators in that the API of the object that is decorated does not change at all. Any other object that depends on the API of the decorated object can use it without modification and without being aware that it is decorated. The only problems that arise when applying decorators is if an object depends on another object’s specific behavior instead of its API, however this is an antipattern and should be avoided.\n",
    "\n",
    "Yet another benefit of decorators is the ability to reuse them across different parts of an application. If we need to add the same behavior to many different objects which share the same API, we can create a decorator class that implements the behavior and attach it to the specific objects that we need to modify. If we had modified the behavior of the objects by changing their class, we would force all instances of the class to have the new behavior that we needed. If we subclassed the original class to add behavior, we would be adding another level of abstraction to the design which makes everything more complicated. By using decorator instances and only attaching them only to the objects that we actually need to modify, we simplify the application’s codebase.\n",
    "\n",
    "By adding the decorator pattern to a codebase, we are able to make the whole codebase more cohesive. This is because we’re making individual classes that do one thing only.  If we need to add some extra behavior to the class, we can attach a decorator that adds only that behavior instead of adding the behavior to the original class. The single responsibility principle tells us that a class should have only one reason to change, by using decorators we can make following this principle in our code a lot easier. \n",
    "\n",
    "Decorators also encourage us to use a compositional approach to software development, which means that we create the desired behavior of the program by “composing” it from various smaller pieces of code. This is different from a hierarchical approach in which we define new behaviors by inheriting from and extending the behavior of base classes. Building software through composition is simpler in the long run because it incentivizes us to use simpler inheritance hierarchies that are easier to work with.\n",
    "\n",
    "### Decorators in the Python Language\n",
    "\n",
    "The Python programming language already has a feature called decorators, which is syntactic sugar that allows a programmer to extend the functionality of a function or class. A decorator of this type is a function that takes a function or a class as a parameter and extends it with new behavior. Functions that are “decorated” have the name of the decorator function prepended with a “@” symbol:\n",
    "\n",
    "```python\n",
    "@my_decorator\n",
    "def my_function():\n",
    "    ...\n",
    "```\n",
    "\n",
    "In this case the decorated function is called my_function and the decorator function is called my_decorator. It’s important to understand that in this blog post, we are not talking about this kind of decorator, although it is a similar concept. A great place to learn about Python decorators is [here](https://realpython.com/primer-on-python-decorators/).\n",
    "\n",
    "The decorator that is supported by the Python language allows you to decorate code, but does not allow for dynamic runtime behavior. That is to say, we can modify a function right after it is loaded, but not before it is executed. The type of decoration we will be building in this blog post will allow us to decorate MLModel objects at runtime, regardless of the actual code. This means that we’ll be able to add decorators are runtime from configuration, adding some flexibility to our software."
   ]
  },
  {
   "cell_type": "markdown",
   "id": "24c9b082",
   "metadata": {},
   "source": [
    "## Base Class for Decorators\n",
    "\n",
    "The decorator pattern requires that we define a base class for the decorators that we want to actually build. \n",
    "\n",
    "First, we'll install the ml_base package"
   ]
  },
  {
   "cell_type": "code",
   "execution_count": 1,
   "id": "7c26f3bf",
   "metadata": {},
   "outputs": [],
   "source": [
    "from IPython.display import clear_output\n",
    "\n",
    "!pip install ml_base>=0.2.0\n",
    "\n",
    "clear_output()"
   ]
  },
  {
   "cell_type": "markdown",
   "id": "6b63968a",
   "metadata": {},
   "source": [
    "The MLModelDecorator base class looks like this:"
   ]
  },
  {
   "cell_type": "code",
   "execution_count": 2,
   "id": "42a78675",
   "metadata": {},
   "outputs": [
    {
     "name": "stdout",
     "output_type": "stream",
     "text": [
      "/Users/brian/Code/ml-model-decorators/venv/lib/python3.9/site-packages/ml_base/version.txt\n"
     ]
    }
   ],
   "source": [
    "from typing import Optional\n",
    "from ml_base.ml_model import MLModel\n",
    "\n",
    "\n",
    "class MLModelDecorator(MLModel):\n",
    "    \n",
    "    def __init__(self, model: Optional[MLModel] = None, **kwargs) -> None:\n",
    "        if model is not None and not isinstance(model, MLModel):\n",
    "            raise ValueError(\"Only objects of type MLModel can be wrapped with MLModelDecorator instances.\")\n",
    "\n",
    "        self.__dict__[\"_model\"] = model\n",
    "        self.__dict__[\"_configuration\"] = kwargs\n",
    "\n",
    "\n",
    "    @property\n",
    "    def display_name(self) -> str:\n",
    "        return self.__dict__[\"_model\"].display_name\n",
    "\n",
    "    @property\n",
    "    def qualified_name(self) -> str:\n",
    "        return self.__dict__[\"_model\"].qualified_name\n",
    "\n",
    "    @property\n",
    "    def description(self) -> str:\n",
    "        return self.__dict__[\"_model\"].description\n",
    "\n",
    "    @property\n",
    "    def version(self) -> str:\n",
    "        return self.__dict__[\"_model\"].version\n",
    "\n",
    "    @property\n",
    "    def input_schema(self):\n",
    "        return self.__dict__[\"_model\"].input_schema\n",
    "\n",
    "    @property\n",
    "    def output_schema(self):\n",
    "        return self.__dict__[\"_model\"].output_schema\n",
    "\n",
    "    def predict(self, data):\n",
    "        return self.__dict__[\"_model\"].predict(data=data)"
   ]
  },
  {
   "cell_type": "markdown",
   "id": "87c1fe8a",
   "metadata": {},
   "source": [
    "The MLModelDecorator base class is actually defined in the [ml_base package](https://github.com/schmidtbri/ml-base) in version 0.2.0 and above. We can also import the class from the ml_base package like this:"
   ]
  },
  {
   "cell_type": "code",
   "execution_count": 3,
   "id": "558067ec",
   "metadata": {},
   "outputs": [],
   "source": [
    "from ml_base.decorator import MLModelDecorator"
   ]
  },
  {
   "cell_type": "markdown",
   "id": "2ae5c41a",
   "metadata": {},
   "source": [
    "The base class for ML Model decorators is designed to hold a reference to an MLModel instance and add no behavior to it. Every method in the decorator just calls the corresponding method on the MLModel instance. This is done on purpose so that we can easily build simple decorators that only work on a single method while leaving all of the other methods and properties alone."
   ]
  },
  {
   "cell_type": "markdown",
   "id": "53b2d744",
   "metadata": {},
   "source": [
    "## Mocking a Model\n",
    "\n",
    "To make this blog post a little simpler, we'll mock an MLModel class that we can use to demonstrate the decorators.\n",
    "\n",
    "We'll mock a model for the iris data set. To do this, we'll mock the model's schemas:"
   ]
  },
  {
   "cell_type": "code",
   "execution_count": 4,
   "id": "aa754bb8",
   "metadata": {},
   "outputs": [],
   "source": [
    "from pydantic import BaseModel, Field\n",
    "from enum import Enum\n",
    "\n",
    "\n",
    "class ModelInput(BaseModel):\n",
    "    sepal_length: float = Field(gt=5.0, lt=8.0)\n",
    "    sepal_width: float = Field(gt=2.0, lt=6.0)\n",
    "    petal_length: float = Field(gt=1.0, lt=6.8)\n",
    "    petal_width: float = Field(gt=0.0, lt=3.0)\n",
    "\n",
    "\n",
    "class Species(str, Enum):\n",
    "    iris_setosa = \"Iris setosa\"\n",
    "    iris_versicolor = \"Iris versicolor\"\n",
    "    iris_virginica = \"Iris virginica\"\n",
    "\n",
    "\n",
    "class ModelOutput(BaseModel):\n",
    "    species: Species"
   ]
  },
  {
   "cell_type": "markdown",
   "id": "656fca98",
   "metadata": {},
   "source": [
    "Now we can create the IrisModelMock class that uses the schema classes."
   ]
  },
  {
   "cell_type": "code",
   "execution_count": 5,
   "id": "7a1d6644",
   "metadata": {},
   "outputs": [],
   "source": [
    "from ml_base.ml_model import MLModel\n",
    "\n",
    "\n",
    "class IrisModelMock(MLModel):\n",
    "    display_name = \"Iris Model\"\n",
    "    qualified_name = \"iris_model\"\n",
    "    description = \"A model to predict the species of a flower based on its measurements.\"\n",
    "    version = \"1.0.0\"\n",
    "    input_schema = ModelInput\n",
    "    output_schema = ModelOutput\n",
    "\n",
    "    def __init__(self) -> None:\n",
    "        pass\n",
    "\n",
    "    def predict(self, data: ModelInput) -> ModelOutput:\n",
    "        return ModelOutput(species=\"Iris setosa\")"
   ]
  },
  {
   "cell_type": "markdown",
   "id": "2fa3034d",
   "metadata": {},
   "source": [
    "We can instantiate the mocked model class like this:"
   ]
  },
  {
   "cell_type": "code",
   "execution_count": 6,
   "id": "f2f663e8",
   "metadata": {},
   "outputs": [
    {
     "data": {
      "text/plain": [
       "IrisModelMock"
      ]
     },
     "execution_count": 6,
     "metadata": {},
     "output_type": "execute_result"
    }
   ],
   "source": [
    "model = IrisModelMock()\n",
    "\n",
    "model"
   ]
  },
  {
   "cell_type": "markdown",
   "id": "c3733560",
   "metadata": {},
   "source": [
    "To make predictions with the model, we'll execute the predict() method:"
   ]
  },
  {
   "cell_type": "code",
   "execution_count": 7,
   "id": "a88a25da",
   "metadata": {},
   "outputs": [
    {
     "data": {
      "text/plain": [
       "ModelOutput(species=<Species.iris_setosa: 'Iris setosa'>)"
      ]
     },
     "execution_count": 7,
     "metadata": {},
     "output_type": "execute_result"
    }
   ],
   "source": [
    "prediction = model.predict(\n",
    "    ModelInput(sepal_length=5.1,\n",
    "               sepal_width=2.2,\n",
    "               petal_length=1.2,\n",
    "               petal_width=1.3))\n",
    "\n",
    "prediction"
   ]
  },
  {
   "cell_type": "markdown",
   "id": "f70d9bb0",
   "metadata": {},
   "source": [
    "The mock will always return the prediction of \"Iris setosa\"."
   ]
  },
  {
   "cell_type": "markdown",
   "id": "1320f30a",
   "metadata": {},
   "source": [
    "## Decorating the Model\n",
    "\n",
    "To show how the simplest possible decorator works, we'll instantiate the MLModel class and the MLModelDecorator class:"
   ]
  },
  {
   "cell_type": "code",
   "execution_count": 8,
   "id": "a7b052b8",
   "metadata": {},
   "outputs": [
    {
     "data": {
      "text/plain": [
       "MLModelDecorator(IrisModelMock)"
      ]
     },
     "execution_count": 8,
     "metadata": {},
     "output_type": "execute_result"
    }
   ],
   "source": [
    "from ml_base import MLModelDecorator\n",
    "\n",
    "decorator = MLModelDecorator(model)\n",
    "\n",
    "decorator"
   ]
  },
  {
   "cell_type": "markdown",
   "id": "866a185a",
   "metadata": {},
   "source": [
    "The decorator instance is wrapping the model. When we print the decorator object it shows us that it is wrapping the IrisModelMock instance.\n",
    "\n",
    "All of the properties of the IrisModelMock instance can still be accessed:"
   ]
  },
  {
   "cell_type": "code",
   "execution_count": 9,
   "id": "55970f81",
   "metadata": {},
   "outputs": [
    {
     "name": "stdout",
     "output_type": "stream",
     "text": [
      "Iris Model\n",
      "iris_model\n",
      "A model to predict the species of a flower based on its measurements.\n",
      "1.0.0\n",
      "<class '__main__.ModelInput'>\n",
      "<class '__main__.ModelOutput'>\n"
     ]
    }
   ],
   "source": [
    "print(decorator.display_name)\n",
    "print(decorator.qualified_name)\n",
    "print(decorator.description)\n",
    "print(decorator.version)\n",
    "print(decorator.input_schema)\n",
    "print(decorator.output_schema)"
   ]
  },
  {
   "cell_type": "markdown",
   "id": "f693faf4",
   "metadata": {},
   "source": [
    "The MLModelDecorator base class actually makes no modifications to the results that it \"passes through\" from the model instance.\n",
    "\n",
    "We can also make predictions with the predict() method:"
   ]
  },
  {
   "cell_type": "code",
   "execution_count": 10,
   "id": "98a221ac",
   "metadata": {},
   "outputs": [
    {
     "data": {
      "text/plain": [
       "ModelOutput(species=<Species.iris_setosa: 'Iris setosa'>)"
      ]
     },
     "execution_count": 10,
     "metadata": {},
     "output_type": "execute_result"
    }
   ],
   "source": [
    "prediction = decorator.predict(\n",
    "    ModelInput(sepal_length=5.1,\n",
    "               sepal_width=2.2,\n",
    "               petal_length=1.2,\n",
    "               petal_width=1.3))\n",
    "\n",
    "prediction"
   ]
  },
  {
   "cell_type": "markdown",
   "id": "d9e66b98",
   "metadata": {},
   "source": [
    "The MLModel decorator base class is not very useful by itself, we need to subclass it to add custom behaviors."
   ]
  },
  {
   "cell_type": "markdown",
   "id": "b960171a",
   "metadata": {},
   "source": [
    "## Creating a Simple Decorator\n",
    "\n",
    "We'll override the default implementation of the MLModelDecorator base class in order to add some behavior.\n",
    "\n",
    "This decorator executes around the predict() method:"
   ]
  },
  {
   "cell_type": "code",
   "execution_count": 11,
   "id": "42a65144",
   "metadata": {},
   "outputs": [],
   "source": [
    "class SimplePredictDecorator(MLModelDecorator):\n",
    "\n",
    "    def predict(self, data):\n",
    "        print(\"Executing before prediction.\")\n",
    "        prediction = self._model.predict(data=data)\n",
    "        print(\"Executing after prediction.\")\n",
    "        return prediction"
   ]
  },
  {
   "cell_type": "markdown",
   "id": "1f90c65b",
   "metadata": {},
   "source": [
    "The decorator wraps around the predict() method and does nothing except print a message before and after executing the predict method of the model.\n",
    "\n",
    "We can try it out by wrapping the model instance again:"
   ]
  },
  {
   "cell_type": "code",
   "execution_count": 12,
   "id": "bd745e52",
   "metadata": {},
   "outputs": [],
   "source": [
    "decorator = SimplePredictDecorator(model)"
   ]
  },
  {
   "cell_type": "markdown",
   "id": "2b4ed1af",
   "metadata": {},
   "source": [
    "Now, we'll call the predict method:"
   ]
  },
  {
   "cell_type": "code",
   "execution_count": 13,
   "id": "29012fb0",
   "metadata": {},
   "outputs": [
    {
     "name": "stdout",
     "output_type": "stream",
     "text": [
      "Executing before prediction.\n",
      "Executing after prediction.\n"
     ]
    },
    {
     "data": {
      "text/plain": [
       "ModelOutput(species=<Species.iris_setosa: 'Iris setosa'>)"
      ]
     },
     "execution_count": 13,
     "metadata": {},
     "output_type": "execute_result"
    }
   ],
   "source": [
    "prediction = decorator.predict(ModelInput(\n",
    "    sepal_length=5.1,\n",
    "    sepal_width=2.1,\n",
    "    petal_length=1.2,\n",
    "    petal_width=1.3))\n",
    "\n",
    "prediction"
   ]
  },
  {
   "cell_type": "markdown",
   "id": "5b5e36a1",
   "metadata": {},
   "source": [
    "The decorator instance executed before and after the model's predict() method and printed some messages."
   ]
  },
  {
   "cell_type": "markdown",
   "id": "accbe0d5",
   "metadata": {},
   "source": [
    "## Adding UUIDs to Predictions\n",
    "\n",
    "Now we’ll build a decorator class that adds the ability to generate UUIDs for each prediction that a model makes. A UUID is a universally unique 128-bit identifier that can be generated for anything that we want to identify uniquely. In this case, we’d like to identify an individual prediction that an ML model makes. \n",
    "\n",
    "To do this, we’ll have to do four things:\n",
    "\n",
    "- Moidfy the description of the model to add info about the prediction id.\n",
    "- Modify the input schema of the model add an optional field that accepts UUIDs.\n",
    "- Modify the output schema of the model to add a field for the UUID.\n",
    "- Modify the predict() method to generate a UUID and return it alongside the prediction.\n",
    "\n",
    "Here is the code for the decorator:"
   ]
  },
  {
   "cell_type": "code",
   "execution_count": 14,
   "id": "709da1f3",
   "metadata": {},
   "outputs": [],
   "source": [
    "from pydantic import create_model\n",
    "from uuid import uuid4\n",
    "\n",
    "\n",
    "class PredictionIDDecorator(MLModelDecorator):\n",
    "    \n",
    "    @property\n",
    "    def description(self) -> str:\n",
    "        decorator_description = \" This model also has an optional input called 'prediction_id' that accepts an UUID string to uniquely identify the prediction returned. If the prediction id is not provided, a UUID is generated and returned in a field called 'prediction_id' in the model output.\"\n",
    "        return self._model.description + decorator_description\n",
    "\n",
    "    @property\n",
    "    def input_schema(self):\n",
    "        input_schema = self._model.input_schema\n",
    "        new_input_schema = create_model(\n",
    "            input_schema.__name__,\n",
    "            prediction_id=(Optional[str], None),\n",
    "            __base__=input_schema,\n",
    "        )\n",
    "        return new_input_schema\n",
    "\n",
    "    @property\n",
    "    def output_schema(self):\n",
    "        output_schema = self._model.output_schema\n",
    "        new_output_schema = create_model(\n",
    "            output_schema.__name__,\n",
    "            prediction_id=(str, ...),\n",
    "            __base__=output_schema,\n",
    "        )\n",
    "        return new_output_schema\n",
    "\n",
    "    def predict(self, data):\n",
    "        if hasattr(data, \"prediction_id\") and data.prediction_id is not None:\n",
    "            prediction_id = data.prediction_id\n",
    "        else:\n",
    "            prediction_id = str(uuid4())\n",
    "\n",
    "        prediction = self._model.predict(data=data)\n",
    "        wrapped_prediction = self.output_schema(prediction_id=prediction_id, **prediction.dict())\n",
    "        return wrapped_prediction"
   ]
  },
  {
   "cell_type": "markdown",
   "id": "3834362c",
   "metadata": {},
   "source": [
    "We’ll try it out but instantiating the decorator with the IrisModel model instance:"
   ]
  },
  {
   "cell_type": "code",
   "execution_count": 15,
   "id": "3d4bd8fb",
   "metadata": {},
   "outputs": [
    {
     "data": {
      "text/plain": [
       "PredictionIDDecorator(IrisModelMock)"
      ]
     },
     "execution_count": 15,
     "metadata": {},
     "output_type": "execute_result"
    }
   ],
   "source": [
    "uuid_decorated_model = PredictionIDDecorator(model)\n",
    "\n",
    "uuid_decorated_model"
   ]
  },
  {
   "cell_type": "markdown",
   "id": "257c6a5c",
   "metadata": {},
   "source": [
    "The description should be different:"
   ]
  },
  {
   "cell_type": "code",
   "execution_count": 16,
   "id": "98ba3d78",
   "metadata": {},
   "outputs": [
    {
     "data": {
      "text/plain": [
       "\"A model to predict the species of a flower based on its measurements. This model also has an optional input called 'prediction_id' that accepts an UUID string to uniquely identify the prediction returned. If the prediction id is not provided, a UUID is generated and returned in a field called 'prediction_id' in the model output.\""
      ]
     },
     "execution_count": 16,
     "metadata": {},
     "output_type": "execute_result"
    }
   ],
   "source": [
    "uuid_decorated_model.description"
   ]
  },
  {
   "cell_type": "markdown",
   "id": "fe39474d",
   "metadata": {},
   "source": [
    "Next, we’ll take a look at the output schema:"
   ]
  },
  {
   "cell_type": "code",
   "execution_count": 17,
   "id": "0b5f0377",
   "metadata": {},
   "outputs": [
    {
     "data": {
      "text/plain": [
       "{'title': 'ModelInput',\n",
       " 'type': 'object',\n",
       " 'properties': {'sepal_length': {'title': 'Sepal Length',\n",
       "   'exclusiveMinimum': 5.0,\n",
       "   'exclusiveMaximum': 8.0,\n",
       "   'type': 'number'},\n",
       "  'sepal_width': {'title': 'Sepal Width',\n",
       "   'exclusiveMinimum': 2.0,\n",
       "   'exclusiveMaximum': 6.0,\n",
       "   'type': 'number'},\n",
       "  'petal_length': {'title': 'Petal Length',\n",
       "   'exclusiveMinimum': 1.0,\n",
       "   'exclusiveMaximum': 6.8,\n",
       "   'type': 'number'},\n",
       "  'petal_width': {'title': 'Petal Width',\n",
       "   'exclusiveMinimum': 0.0,\n",
       "   'exclusiveMaximum': 3.0,\n",
       "   'type': 'number'},\n",
       "  'prediction_id': {'title': 'Prediction Id', 'type': 'string'}},\n",
       " 'required': ['sepal_length', 'sepal_width', 'petal_length', 'petal_width']}"
      ]
     },
     "execution_count": 17,
     "metadata": {},
     "output_type": "execute_result"
    }
   ],
   "source": [
    "uuid_decorated_model.input_schema.schema()"
   ]
  },
  {
   "cell_type": "markdown",
   "id": "ab6f1236",
   "metadata": {},
   "source": [
    "Even though the IrisModelMock didn't have a \"prediction_id\" in its input schema, the decorated model instance now has the field as an optional string field. This new field was added by the decorator instance."
   ]
  },
  {
   "cell_type": "code",
   "execution_count": 18,
   "id": "f8870883",
   "metadata": {},
   "outputs": [
    {
     "data": {
      "text/plain": [
       "{'title': 'ModelOutput',\n",
       " 'type': 'object',\n",
       " 'properties': {'species': {'$ref': '#/definitions/Species'},\n",
       "  'prediction_id': {'title': 'Prediction Id', 'type': 'string'}},\n",
       " 'required': ['species', 'prediction_id'],\n",
       " 'definitions': {'Species': {'title': 'Species',\n",
       "   'description': 'An enumeration.',\n",
       "   'enum': ['Iris setosa', 'Iris versicolor', 'Iris virginica'],\n",
       "   'type': 'string'}}}"
      ]
     },
     "execution_count": 18,
     "metadata": {},
     "output_type": "execute_result"
    }
   ],
   "source": [
    "uuid_decorated_model.output_schema.schema()"
   ]
  },
  {
   "cell_type": "markdown",
   "id": "e477145c",
   "metadata": {},
   "source": [
    "The same thing is happening to the output schema, but \"prediction_id\" is a a required field instead, we did this because we want to always have a prediction_id associated with a prediction. To see how the decorator uses these new field, we'll make a prediction:"
   ]
  },
  {
   "cell_type": "code",
   "execution_count": 19,
   "id": "4e358c35",
   "metadata": {},
   "outputs": [
    {
     "data": {
      "text/plain": [
       "ModelOutput(species=<Species.iris_setosa: 'Iris setosa'>, prediction_id='605253ca-2196-44a6-b165-b18532a600eb')"
      ]
     },
     "execution_count": 19,
     "metadata": {},
     "output_type": "execute_result"
    }
   ],
   "source": [
    "prediction = uuid_decorated_model.predict(\n",
    "    uuid_decorated_model.input_schema(sepal_length=5.1,\n",
    "                                      sepal_width=2.2,\n",
    "                                      petal_length=1.2,\n",
    "                                      petal_width=1.3))\n",
    "\n",
    "prediction"
   ]
  },
  {
   "cell_type": "markdown",
   "id": "7a225aff",
   "metadata": {},
   "source": [
    "The prediction now has a randomly generated UUID attached to it by the decorator in the \"prediction_id\" field. \n",
    "\n",
    "If we want to provide a prediction_id with the model's input, the decorator will not generate a new prediction_id, instead it will return the prediction_id that was provided in the input."
   ]
  },
  {
   "cell_type": "code",
   "execution_count": 20,
   "id": "770c69b5",
   "metadata": {},
   "outputs": [
    {
     "data": {
      "text/plain": [
       "ModelOutput(species=<Species.iris_setosa: 'Iris setosa'>, prediction_id='asdf-1234-asdf-1234')"
      ]
     },
     "execution_count": 20,
     "metadata": {},
     "output_type": "execute_result"
    }
   ],
   "source": [
    "prediction = uuid_decorated_model.predict(\n",
    "    uuid_decorated_model.input_schema(sepal_length=5.1,\n",
    "                                      sepal_width=2.2,\n",
    "                                      petal_length=1.2,\n",
    "                                      petal_width=1.3,\n",
    "                                      prediction_id=\"asdf-1234-asdf-1234\"))\n",
    "\n",
    "prediction"
   ]
  },
  {
   "cell_type": "markdown",
   "id": "038d0f1c",
   "metadata": {},
   "source": [
    "The prediction_id returned by the model now has the same prediction_id that we provided to the model's input, the prediction_id was not generated.\n",
    "\n",
    "Notice that we're using the input schema class that is returned by the decorated model instance, not the original ModelInput schema class that we defined above. The class returned by the decorated model instance is the one that will have the new field attached to it. The original input and output schemas did not have the new fields."
   ]
  },
  {
   "cell_type": "markdown",
   "id": "3be45e1c",
   "metadata": {},
   "source": [
    "This decorator will work with any model that works with the MLModel base class, as long as the UUID field can be attached to the root of the input and output schemas."
   ]
  },
  {
   "cell_type": "markdown",
   "id": "74d2a932",
   "metadata": {},
   "source": [
    "## Adding Decorators to a Deployed Model\n",
    "\n",
    "In order to deploy a model with a decorator we'll need to create a service that can add decorators to the model instance right after it is intantiated. This is supported by the rest_model_service package in version 0.2.0 and above. We built the rest_model service package in a [previous blog post](https://brianschmidt-78145.medium.com/a-restful-ml-model-service-1e49f88e1b5b) to easily deploy MLModel instances.\n",
    "\n",
    "First, we'll install the rest_model_service package."
   ]
  },
  {
   "cell_type": "code",
   "execution_count": 21,
   "id": "fa3441cc",
   "metadata": {},
   "outputs": [],
   "source": [
    "from IPython.display import clear_output\n",
    "\n",
    "!pip install rest_model_service>=0.2.0\n",
    "\n",
    "clear_output()"
   ]
  },
  {
   "cell_type": "markdown",
   "id": "4bfdf3f2",
   "metadata": {},
   "source": [
    "In order to deploy the IrisModelMock class, we'll create a configuration YAML file for the service:\n",
    "\n",
    "```yaml\n",
    "service_title: REST Model Service\n",
    "models:\n",
    "  - qualified_name: iris_model\n",
    "    class_path: ml_model_decorators.mocks.IrisModelMock\n",
    "    create_endpoint: true\n",
    "```"
   ]
  },
  {
   "cell_type": "markdown",
   "id": "d8441f85",
   "metadata": {},
   "source": [
    "Notice that the we're pointing to the IrisModelMock class in the \\_\\_main\\_\\_ module which is the module inside of the jupyter notebook where this blog post is being written.\n",
    "\n",
    "We can run the REST model service with these commands:\n",
    "\n",
    "```bash\n",
    "export REST_CONFIG=configuration/rest_config.yaml\n",
    "uvicorn rest_model_service.main:app --reload\n",
    "```"
   ]
  },
  {
   "cell_type": "markdown",
   "id": "5c335917",
   "metadata": {},
   "source": [
    "We can access the documentation at the root of the model service:\n",
    "\n",
    "![Service Documentation](\"service_documentation.png\")\n",
    "\n",
    "The model is running inside of the \"api/models/iris_model/prediction\" endpoint. We can make a prediction with a curl command:"
   ]
  },
  {
   "cell_type": "code",
   "execution_count": 22,
   "id": "98f7fd31",
   "metadata": {},
   "outputs": [
    {
     "name": "stdout",
     "output_type": "stream",
     "text": [
      "{\"species\":\"Iris setosa\"}"
     ]
    }
   ],
   "source": [
    "!(curl -X 'POST' \\\n",
    "  'http://127.0.0.1:8000/api/models/iris_model/prediction' \\\n",
    "  -H 'accept: application/json' \\\n",
    "  -H 'Content-Type: application/json' \\\n",
    "  -d '{\"sepal_length\": 6.0, \"sepal_width\": 3.0, \"petal_length\": 2.0, \"petal_width\": 1.0}')"
   ]
  },
  {
   "cell_type": "markdown",
   "id": "ccfefad0",
   "metadata": {},
   "source": [
    "We were able to make a prediction with the undecorated model. Notice that we actually haven't loaded the decorator for the model yet. We'll stop the service with CTL C and try that next.\n",
    "\n",
    "Adding a decorator to the IrisModelMock instance is done by adding the \"decorators\" key to the configuration:\n",
    "\n",
    "```yaml\n",
    "service_title: REST Model Service With Decorators\n",
    "models:\n",
    "  - qualified_name: iris_model\n",
    "    class_path: ml_model_decorators.mocks.IrisModel\n",
    "    create_endpoint: true\n",
    "    decorators:\n",
    "      - class_path: ml_model_decorators.prediction_id_decorator.PredictionIDDecorator\n",
    "```\n",
    "\n",
    "We'll point the service to the new config file and restart it:\n",
    "\n",
    "```bash\n",
    "export REST_CONFIG=configuration/decorators_config.yaml\n",
    "uvicorn rest_model_service.main:app --reload\n",
    "```\n",
    "\n",
    "With the service now restarted using the PredictionIDDecorator, we can view the documentation for this endpoint:\n",
    "\n",
    "![Endpoint Documentation](\"endpoint_documentation.png\")\n",
    "\n",
    "As you can see, the modified description of the model is now displayed instead of the old description. Now we can try to make a prediction again:"
   ]
  },
  {
   "cell_type": "markdown",
   "id": "354ec1c9",
   "metadata": {},
   "source": []
  },
  {
   "cell_type": "code",
   "execution_count": 23,
   "id": "79cef779",
   "metadata": {},
   "outputs": [
    {
     "name": "stdout",
     "output_type": "stream",
     "text": [
      "{\"species\":\"Iris setosa\",\"prediction_id\":\"306bddc1-0b2f-4421-b3a5-4b4adf9a2cf9\"}"
     ]
    }
   ],
   "source": [
    "!(curl -X 'POST' \\\n",
    "  'http://127.0.0.1:8000/api/models/iris_model/prediction' \\\n",
    "  -H 'accept: application/json' \\\n",
    "  -H 'Content-Type: application/json' \\\n",
    "  -d '{\"sepal_length\": 6.0, \"sepal_width\": 3.0, \"petal_length\": 3.0, \"petal_width\": 2.0}')"
   ]
  },
  {
   "cell_type": "markdown",
   "id": "c431c676",
   "metadata": {},
   "source": [
    "We've made a prediction, but now we have the generated prediction_id in the response.\n",
    "\n",
    "We can make another prediction request but with a provided prediction_id:"
   ]
  },
  {
   "cell_type": "code",
   "execution_count": 24,
   "id": "b46600ad",
   "metadata": {},
   "outputs": [
    {
     "name": "stdout",
     "output_type": "stream",
     "text": [
      "{\"species\":\"Iris setosa\",\"prediction_id\":\"asdf-1234-asdf-1234\"}"
     ]
    }
   ],
   "source": [
    "!(curl -X 'POST' \\\n",
    "  'http://127.0.0.1:8000/api/models/iris_model/prediction' \\\n",
    "  -H 'accept: application/json' \\\n",
    "  -H 'Content-Type: application/json' \\\n",
    "  -d '{\"prediction_id\": \"asdf-1234-asdf-1234\", \"sepal_length\": 6.0, \"sepal_width\": 3.0, \"petal_length\": 3.0, \"petal_width\": 2.0}')"
   ]
  },
  {
   "cell_type": "markdown",
   "id": "b4fc06da",
   "metadata": {},
   "source": [
    "As we expected, the model is now returning prediction ids along with the predictions themselves. \n",
    "\n",
    "Since the service is able to load decorators along with models, we can modify the runtime behavior of any model we wish, as long as we wrap the code in an MLModelDecorator class."
   ]
  },
  {
   "cell_type": "markdown",
   "id": "cd67e087",
   "metadata": {},
   "source": [
    "## Closing\n",
    "\n",
    "In this blog post, we showed how decorators work and how to create decorators that work with the MLModel base class. We also showed how we can quickly deploy decorators on models inside of a RESTful model service through configuration. Decorators are an easy way to add functionality to a model without having to modify the code of the model class itself. In this blog post, we deployed an UUID generator on an ML model instance without having to modify the code of the model’s class or the code of the REST model service that hosts the model. The combination of decorators and machine learning models can help us to quickly and easily deploy common functionality to many different models."
   ]
  }
 ],
 "metadata": {
  "kernelspec": {
   "display_name": "Python 3 (ipykernel)",
   "language": "python",
   "name": "python3"
  },
  "language_info": {
   "codemirror_mode": {
    "name": "ipython",
    "version": 3
   },
   "file_extension": ".py",
   "mimetype": "text/x-python",
   "name": "python",
   "nbconvert_exporter": "python",
   "pygments_lexer": "ipython3",
   "version": "3.9.10"
  }
 },
 "nbformat": 4,
 "nbformat_minor": 5
}
